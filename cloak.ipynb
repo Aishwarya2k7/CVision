{
 "cells": [
  {
   "cell_type": "code",
   "execution_count": 2,
   "metadata": {},
   "outputs": [],
   "source": [
    "import cv2 \n",
    "import numpy as np"
   ]
  },
  {
   "cell_type": "code",
   "execution_count": 8,
   "metadata": {},
   "outputs": [],
   "source": [
    "cap = cv2.VideoCapture(0)\n",
    "back = cv2.imread('./image.jpg')\n",
    "while cap.isOpened():\n",
    "    ret,frame = cap.read()\n",
    "    \n",
    "    if ret:\n",
    "        hsv = cv2.cvtColor(frame,cv2.COLOR_BGR2HSV)\n",
    "        red = np.uint8([[[0,0,255]]])\n",
    "        hsv_red = cv2.cvtColor(red,cv2.COLOR_BGR2HSV)\n",
    "        \n",
    "        l_red = np.array([0,100,100])\n",
    "        u_red = np.array([10,255,255])\n",
    "        #print(hsv_red)\n",
    "        mask = cv2.inRange(hsv,l_red,u_red)\n",
    "        part1 = cv2.bitwise_and(back,back,mask=mask)\n",
    "        mask = cv2.bitwise_not(mask)\n",
    "        part2 = cv2.bitwise_and(frame,frame,mask=mask)\n",
    "        \n",
    "        cv2.imshow('cloak',part1+part2)\n",
    "        \n",
    "    if cv2.waitKey(5)==ord('a'):\n",
    "        break\n",
    "cap.release()\n",
    "cv2.destroyAllWindows()"
   ]
  },
  {
   "cell_type": "code",
   "execution_count": null,
   "metadata": {},
   "outputs": [],
   "source": []
  }
 ],
 "metadata": {
  "kernelspec": {
   "display_name": "Python 3",
   "language": "python",
   "name": "python3"
  },
  "language_info": {
   "codemirror_mode": {
    "name": "ipython",
    "version": 3
   },
   "file_extension": ".py",
   "mimetype": "text/x-python",
   "name": "python",
   "nbconvert_exporter": "python",
   "pygments_lexer": "ipython3",
   "version": "3.7.3"
  }
 },
 "nbformat": 4,
 "nbformat_minor": 2
}
